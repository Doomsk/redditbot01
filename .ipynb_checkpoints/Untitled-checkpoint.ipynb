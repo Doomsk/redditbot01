{
 "cells": [
  {
   "cell_type": "code",
   "execution_count": 13,
   "metadata": {
    "collapsed": true
   },
   "outputs": [],
   "source": [
    "import praw\n",
    "import requests\n",
    "import json\n",
    "import time\n",
    "import logging"
   ]
  },
  {
   "cell_type": "code",
   "execution_count": 2,
   "metadata": {
    "collapsed": true
   },
   "outputs": [],
   "source": [
    "username = 'Verhangnis'\n",
    "clientid = 'o71uUr7kmiYtXQ'\n",
    "q= 'AzN-B4B-opK-d5P'\n",
    "s= 'LATCfPS5A3Y09ktz10gH-A4VnAQ'"
   ]
  },
  {
   "cell_type": "code",
   "execution_count": null,
   "metadata": {
    "collapsed": true
   },
   "outputs": [],
   "source": [
    "# API token for @Killlbot\n",
    "tokenbot = '149605204:AAFvLdX6u7TJlgTCFuGc_2E8HgGiD_wx9Co'"
   ]
  },
  {
   "cell_type": "code",
   "execution_count": 14,
   "metadata": {
    "collapsed": true
   },
   "outputs": [],
   "source": [
    "handler = logging.StreamHandler()\n",
    "handler.setLevel(logging.DEBUG)\n",
    "logger = logging.getLogger('prawcore')\n",
    "logger.setLevel(logging.DEBUG)\n",
    "logger.addHandler(handler)"
   ]
  },
  {
   "cell_type": "code",
   "execution_count": 55,
   "metadata": {
    "collapsed": false
   },
   "outputs": [],
   "source": [
    "r = praw.Reddit(client_id= clientid, client_secret= s, password= q, user_agent='redditbotthread' , username= username, subreddit='cheese', subreddits='cheese')"
   ]
  },
  {
   "cell_type": "code",
   "execution_count": 5,
   "metadata": {
    "collapsed": false
   },
   "outputs": [
    {
     "name": "stdout",
     "output_type": "stream",
     "text": [
      "Verhangnis\n"
     ]
    }
   ],
   "source": [
    "print(reddit1.user.me())"
   ]
  },
  {
   "cell_type": "code",
   "execution_count": 18,
   "metadata": {
    "collapsed": true
   },
   "outputs": [
    {
     "name": "stderr",
     "output_type": "stream",
     "text": [
      "Fetching: GET https://oauth.reddit.com/subreddits/default/\n",
      "Data: None\n",
      "Params: {'limit': 1024, 'raw_json': 1}\n",
      "Response: 200 (162525 bytes)\n"
     ]
    },
    {
     "name": "stdout",
     "output_type": "stream",
     "text": [
      "gadgets\n",
      "sports\n",
      "gaming\n",
      "pics\n",
      "worldnews\n",
      "videos\n",
      "AskReddit\n",
      "aww\n",
      "Music\n",
      "funny\n",
      "news\n",
      "movies\n",
      "blog\n",
      "books\n",
      "history\n",
      "food\n",
      "philosophy\n",
      "television\n",
      "Jokes\n",
      "Art\n",
      "DIY\n",
      "space\n",
      "brasil\n",
      "Documentaries\n",
      "askscience\n",
      "nottheonion\n",
      "futbol\n",
      "todayilearned\n",
      "personalfinance\n",
      "gifs\n",
      "listentothis\n",
      "IAmA\n",
      "announcements\n",
      "TwoXChromosomes\n",
      "creepy\n",
      "nosleep\n",
      "GetMotivated\n",
      "WritingPrompts\n",
      "LifeProTips\n",
      "EarthPorn\n",
      "explainlikeimfive\n",
      "Showerthoughts\n",
      "Futurology\n",
      "photoshopbattles\n",
      "mildlyinteresting\n",
      "dataisbeautiful\n",
      "tifu\n",
      "OldSchoolCool\n",
      "UpliftingNews\n",
      "InternetIsBeautiful\n",
      "science\n"
     ]
    }
   ],
   "source": [
    "for subreddit in reddit1.subreddits.default(limit=None):\n",
    "    print(subreddit)"
   ]
  },
  {
   "cell_type": "code",
   "execution_count": 20,
   "metadata": {
    "collapsed": false
   },
   "outputs": [],
   "source": [
    "subr1 = reddit1.subreddit('cheese')"
   ]
  },
  {
   "cell_type": "code",
   "execution_count": 75,
   "metadata": {
    "collapsed": false,
    "scrolled": true
   },
   "outputs": [
    {
     "name": "stderr",
     "output_type": "stream",
     "text": [
      "Fetching: GET https://oauth.reddit.com/r/all/hot\n",
      "Data: None\n",
      "Params: {'limit': 100, 'raw_json': 1}\n",
      "Response: 200 (69404 bytes)\n"
     ]
    },
    {
     "name": "stdout",
     "output_type": "stream",
     "text": [
      "27249|politics|Robert Mueller expands special counsel office, hires 13 lawyers\n",
      "|Comments: https://www.reddit.com/r/politics/comments/6hm0bz/robert_mueller_expands_special_counsel_office/\n",
      "|Link da thread: http://www.cnn.com/2017/06/16/politics/robert-mueller-special-counsel-lawyers/index.html\n",
      "13273|dataisbeautiful|America’s new tobacco crisis: The rich stopped smoking, the poor didn’t\n",
      "|Comments: https://www.reddit.com/r/dataisbeautiful/comments/6hm3p8/americas_new_tobacco_crisis_the_rich_stopped/\n",
      "|Link da thread: https://www.washingtonpost.com/national/americas-new-tobacco-crisis-the-rich-stopped-smoking-the-poor-didnt/2017/06/13/a63b42ba-4c8c-11e7-9669-250d0b15f83b_story.html?hpid=hp_rhp-top-table-main_stillsmoking-155am%3Ahomepage%2Fstory&utm_term=.d44f2305167e\n",
      "27137|news|US woman sues casino that 'offered dinner instead of $43m jackpot'\n",
      "|Comments: https://www.reddit.com/r/news/comments/6hlwwt/us_woman_sues_casino_that_offered_dinner_instead/\n",
      "|Link da thread: http://www.bbc.com/news/world-us-canada-40300062\n",
      "5636|IAmA|NICK OFFERMAN FATHER'S DAY WHISKY FUN and wood\n",
      "|Comments: https://www.reddit.com/r/IAmA/comments/6hmlj3/nick_offerman_fathers_day_whisky_fun_and_wood/\n",
      "|Link da thread: https://www.reddit.com/r/IAmA/comments/6hmlj3/nick_offerman_fathers_day_whisky_fun_and_wood/\n",
      "12811|wholesomememes|Wholesome Satan\n",
      "|Comments: https://www.reddit.com/r/wholesomememes/comments/6hlzd4/wholesome_satan/\n",
      "|Link da thread: https://i.redd.it/zhaddlwzuz3z.jpg\n",
      "14030|technology|Netflix Changes Its Mind, Decides Maybe It Does Care About Net Neutrality Again\n",
      "|Comments: https://www.reddit.com/r/technology/comments/6hlxyw/netflix_changes_its_mind_decides_maybe_it_does/\n",
      "|Link da thread: https://consumerist.com/2017/06/15/netflix-changes-its-mind-decides-maybe-it-does-care-about-net-neutrality-again/\n",
      "7183|PrequelMemes|You fool! I was trained in your high ground game by General Kenobi!\n",
      "|Comments: https://www.reddit.com/r/PrequelMemes/comments/6hm43c/you_fool_i_was_trained_in_your_high_ground_game/\n",
      "|Link da thread: https://i.redd.it/n55j2ju9004z.png\n",
      "12827|books|\"Game of Thrones\" author \"trying\" to deliver next book: George R.R. Martin says he thinks incremen...\n",
      "|Comments: https://www.reddit.com/r/books/comments/6hltf9/game_of_thrones_author_trying_to_deliver_next/\n",
      "|Link da thread: https://www.cnet.com/news/game-of-thrones-winds-of-winter-george-rr-martin-hbo/\n",
      "10879|HighQualityGifs|This is a message for r/all\n",
      "|Comments: https://www.reddit.com/r/HighQualityGifs/comments/6hls32/this_is_a_message_for_rall/\n",
      "|Link da thread: http://i.imgur.com/ohFAXbi.gifv\n",
      "7664|TrumpCriticizesTrump|If you read my last number of tweets, only one opinion can be formed - that our President, and the...\n",
      "|Comments: https://www.reddit.com/r/TrumpCriticizesTrump/comments/6hlvie/if_you_read_my_last_number_of_tweets_only_one/\n",
      "|Link da thread: https://twitter.com/realDonaldTrump/status/495384828427374592\n",
      "7716|funny|Friend: \"What you are going to do with your engineering degree?\" Me:\n",
      "|Comments: https://www.reddit.com/r/funny/comments/6hlwo2/friend_what_you_are_going_to_do_with_your/\n",
      "|Link da thread: https://i.redd.it/b69s8vbqrz3z.jpg\n",
      "6447|reactiongifs|MRW I see someone ranting about fidget spinners\n",
      "|Comments: https://www.reddit.com/r/reactiongifs/comments/6hlwvm/mrw_i_see_someone_ranting_about_fidget_spinners/\n",
      "|Link da thread: http://i.imgur.com/WEI2CoN.gifv\n",
      "5926|photoshopbattles|PsBattle: Skateboarding Budgie\n",
      "|Comments: https://www.reddit.com/r/photoshopbattles/comments/6hm5s6/psbattle_skateboarding_budgie/\n",
      "|Link da thread: https://i.redd.it/rbd8x556204z.jpg\n",
      "15255|Eyebleach|That look of jealousy\n",
      "|Comments: https://www.reddit.com/r/Eyebleach/comments/6hlg44/that_look_of_jealousy/\n",
      "|Link da thread: http://i.imgur.com/EkbVxQD.gifv\n",
      "23961|worldnews|Cologne rally: As many as 10,000 Muslims to protest Islamic extremism\n",
      "|Comments: https://www.reddit.com/r/worldnews/comments/6hlji4/cologne_rally_as_many_as_10000_muslims_to_protest/\n",
      "|Link da thread: http://www.independent.co.uk/news/world/europe/cologne-rally-muslims-protest-islamic-extremism-germany-terror-attacks-uk-nichtmituns-not-with-us-a7792876.html\n",
      "27931|OldSchoolCool|54 years ago today, Valentina Tereshkova became the first woman in space. #WomenInScience\n",
      "|Comments: https://www.reddit.com/r/OldSchoolCool/comments/6hlid5/54_years_ago_today_valentina_tereshkova_became/\n",
      "|Link da thread: https://i.redd.it/r7y50xjj9z3z.jpg\n",
      "18613|LifeProTips|LPT: If you are buying headphones/speakers, test them with Bohemian Rhapsody. It has the complete ...\n",
      "|Comments: https://www.reddit.com/r/LifeProTips/comments/6hljyv/lpt_if_you_are_buying_headphonesspeakers_test/\n",
      "|Link da thread: https://www.reddit.com/r/LifeProTips/comments/6hljyv/lpt_if_you_are_buying_headphonesspeakers_test/\n",
      "8361|The_Donald|Gun issue\n",
      "|Comments: https://www.reddit.com/r/The_Donald/comments/6hlrrn/gun_issue/\n",
      "|Link da thread: http://i.imgur.com/lGgV4aw.jpg\n",
      "6422|mildlyinteresting|The ownership information on the bottom of an Emmy.\n",
      "|Comments: https://www.reddit.com/r/mildlyinteresting/comments/6hlra9/the_ownership_information_on_the_bottom_of_an_emmy/\n",
      "|Link da thread: https://i.redd.it/1bbg1go0lz3z.jpg\n",
      "7190|ImGoingToHellForThis|\"Attack Helicopter Rights\" explained\n",
      "|Comments: https://www.reddit.com/r/ImGoingToHellForThis/comments/6hlnjc/attack_helicopter_rights_explained/\n",
      "|Link da thread: http://i.imgur.com/BuTi9xx.jpg\n",
      "26765|todayilearned|TIL in 1988, a retired police officer found Cyril Smith, British MP with 144 accusations of child ...\n",
      "|Comments: https://www.reddit.com/r/todayilearned/comments/6hl6kg/til_in_1988_a_retired_police_officer_found_cyril/\n",
      "|Link da thread: https://en.wikipedia.org/wiki/Cyril_Smith\n",
      "6799|Overwatch|Since Jeff is (was) worn down, let's all be wholesome for once, and give our regards to Overwatch ...\n",
      "|Comments: https://www.reddit.com/r/Overwatch/comments/6hlmrk/since_jeff_is_was_worn_down_lets_all_be_wholesome/\n",
      "|Link da thread: https://www.reddit.com/r/Overwatch/comments/6hlmrk/since_jeff_is_was_worn_down_lets_all_be_wholesome/\n",
      "8295|politics|Trump disapproval hits 64 percent in AP poll\n",
      "|Comments: https://www.reddit.com/r/politics/comments/6hm6dt/trump_disapproval_hits_64_percent_in_ap_poll/\n",
      "|Link da thread: http://thehill.com/homenews/administration/338092-trump-disapproval-hits-64-percent-in-ap-poll\n",
      "6331|AdviceAnimals|Waking up in the middle of the night never felt so good.\n",
      "|Comments: https://www.reddit.com/r/AdviceAnimals/comments/6hlsa6/waking_up_in_the_middle_of_the_night_never_felt/\n",
      "|Link da thread: http://i.imgur.com/C6t6SKy.jpg\n",
      "6328|UpliftingNews|Tiger count in Kaziranga rises from 83 to 104 in 3 years\n",
      "|Comments: https://www.reddit.com/r/UpliftingNews/comments/6hllr6/tiger_count_in_kaziranga_rises_from_83_to_104_in/\n",
      "|Link da thread: http://timesofindia.indiatimes.com/home/environment/flora-fauna/tiger-count-in-kaziranga-rises-from-83-to-104-in-3-years/articleshow/59169213.cms\n",
      "20738|AskReddit|You're given immortality but as a cost you are sent back 3000 years - would you accept and what wo...\n",
      "|Comments: https://www.reddit.com/r/AskReddit/comments/6hl62g/youre_given_immortality_but_as_a_cost_you_are/\n",
      "|Link da thread: https://www.reddit.com/r/AskReddit/comments/6hl62g/youre_given_immortality_but_as_a_cost_you_are/\n",
      "8712|soccer|Cristiano Ronaldo makes 'irreversible' decision to leave Real Madrid after treatment by Spanish ta...\n",
      "|Comments: https://www.reddit.com/r/soccer/comments/6hl45f/cristiano_ronaldo_makes_irreversible_decision_to/\n",
      "|Link da thread: http://www.independent.co.uk/sport/football/transfers/cristiano-ronaldo-real-madrid-transfer-news-wants-to-leave-spanish-tax-fraud-allegations-a7792826.html\n",
      "21216|me_irl|Me_irl\n",
      "|Comments: https://www.reddit.com/r/me_irl/comments/6hl0lu/me_irl/\n",
      "|Link da thread: https://i.redd.it/lqjoekzlky3z.jpg\n",
      "58085|pics|Gal Gadot's husband has the best t-shirt ever\n",
      "|Comments: https://www.reddit.com/r/pics/comments/6hkyqe/gal_gadots_husband_has_the_best_tshirt_ever/\n",
      "|Link da thread: http://i.imgur.com/VcPGnFL.jpg\n",
      "10361|europe|Europeans Like the E.U. More Since Brexit. Even the British\n",
      "|Comments: https://www.reddit.com/r/europe/comments/6hkvn1/europeans_like_the_eu_more_since_brexit_even_the/\n",
      "|Link da thread: http://time.com/4820283/european-union-poll-brexit/\n",
      "22895|meirl|Meirl\n",
      "|Comments: https://www.reddit.com/r/meirl/comments/6hkakp/meirl/\n",
      "|Link da thread: https://i.imgur.com/GozZ7of.jpg\n",
      "5381|The_Donald|Blame me for voting\n",
      "|Comments: https://www.reddit.com/r/The_Donald/comments/6hltt5/blame_me_for_voting/\n",
      "|Link da thread: http://i.imgur.com/Ayfrf83.jpg\n",
      "5804|funny|I think I found the world's smallest penis\n",
      "|Comments: https://www.reddit.com/r/funny/comments/6hllg6/i_think_i_found_the_worlds_smallest_penis/\n",
      "|Link da thread: http://i.imgur.com/FAemLFV.jpg\n",
      "10979|bestof|The_Donald hive mind tries to coordinate a class action against members of Congress, a user then d...\n",
      "|Comments: https://www.reddit.com/r/bestof/comments/6hkiko/the_donald_hive_mind_tries_to_coordinate_a_class/\n",
      "|Link da thread: https://np.reddit.com/r/badlegaladvice/comments/6hjzrl/im_just_really_not_sure_what_to_make_of_this_post/diyxgzw\n",
      "5310|politics|Donald Trump picks son's wedding planner to run New York federal housing program.\n",
      "|Comments: https://www.reddit.com/r/politics/comments/6hm30d/donald_trump_picks_sons_wedding_planner_to_run/\n",
      "|Link da thread: http://www.independent.co.uk/news/world/americas/us-politics/donald-trump-ericwedding-planner-lynne-patton-new-york-federal-housing-programme-a7792911.html\n",
      "20424|PeopleFuckingDying|1 BlAcK, 1 wHiTe bEaT eAcH oThEr tO dEaTh iN brUtal GaNg FiGhT\n",
      "|Comments: https://www.reddit.com/r/PeopleFuckingDying/comments/6hjwv8/1_black_1_white_beat_each_other_to_death_in/\n",
      "|Link da thread: http://i.imgur.com/uj5PBdx.gifv\n",
      "13148|MemeEconomy|Baron Trump Memes on the rise again?\n",
      "|Comments: https://www.reddit.com/r/MemeEconomy/comments/6hk03c/baron_trump_memes_on_the_rise_again/\n",
      "|Link da thread: https://i.redd.it/qeqrech7dx3z.jpg\n",
      "17572|AccidentalRenaissance|The Plight of a Politician\n",
      "|Comments: https://www.reddit.com/r/AccidentalRenaissance/comments/6hjrby/the_plight_of_a_politician/\n",
      "|Link da thread: https://i.redd.it/axboa76l4x3z.jpg\n",
      "18252|gifs|Bat Signal At Los Angeles City Hall Honors Adam West\n",
      "|Comments: https://www.reddit.com/r/gifs/comments/6hknfb/bat_signal_at_los_angeles_city_hall_honors_adam/\n",
      "|Link da thread: http://i.imgur.com/SVEq9vN.gifv\n",
      "9611|interestingasfuck|6,333 foot long pizza\n",
      "|Comments: https://www.reddit.com/r/interestingasfuck/comments/6hjwzm/6333_foot_long_pizza/\n",
      "|Link da thread: https://gfycat.com/HardGentleItalianbrownbear\n"
     ]
    }
   ],
   "source": [
    "\n",
    "for subs in reddit1.subreddit('all').hot():\n",
    "    if vars(subs)['ups'] >= 5000:\n",
    "        print( str(vars(subs)['ups']) + '|' + str(vars(subs)['subreddit']) +  '|' + (vars(subs)['title'] if len(vars(subs)['title']) <= 100 else vars(subs)['title'][:98] + '...' ))\n",
    "        print('|Comments: ' + 'https://www.reddit.com' + vars(subs)['permalink'])\n",
    "        print('|Link da thread: ' + vars(subs)['url']) # 'subrredit', 'permalink', 'title', 'url', 'selftext_html'(?) ,"
   ]
  },
  {
   "cell_type": "code",
   "execution_count": 41,
   "metadata": {
    "collapsed": false
   },
   "outputs": [
    {
     "name": "stdout",
     "output_type": "stream",
     "text": [
      "1 oi\n"
     ]
    }
   ],
   "source": [
    "print( (str(1) if 1+1 == 2 else str(2)) + ' oi')"
   ]
  },
  {
   "cell_type": "code",
   "execution_count": 77,
   "metadata": {
    "collapsed": false
   },
   "outputs": [],
   "source": [
    "sub = reddit1.subreddit('342324dkoad')"
   ]
  },
  {
   "cell_type": "code",
   "execution_count": null,
   "metadata": {
    "collapsed": true
   },
   "outputs": [],
   "source": []
  }
 ],
 "metadata": {
  "kernelspec": {
   "display_name": "Python 3",
   "language": "python",
   "name": "python3"
  },
  "language_info": {
   "codemirror_mode": {
    "name": "ipython",
    "version": 3
   },
   "file_extension": ".py",
   "mimetype": "text/x-python",
   "name": "python",
   "nbconvert_exporter": "python",
   "pygments_lexer": "ipython3",
   "version": "3.6.1"
  }
 },
 "nbformat": 4,
 "nbformat_minor": 2
}
